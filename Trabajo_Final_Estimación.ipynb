{
  "nbformat": 4,
  "nbformat_minor": 0,
  "metadata": {
    "colab": {
      "provenance": [],
      "authorship_tag": "ABX9TyOd4uOgANQFt2WXyKZnqsjy",
      "include_colab_link": true
    },
    "kernelspec": {
      "name": "python3",
      "display_name": "Python 3"
    },
    "language_info": {
      "name": "python"
    }
  },
  "cells": [
    {
      "cell_type": "markdown",
      "metadata": {
        "id": "view-in-github",
        "colab_type": "text"
      },
      "source": [
        "<a href=\"https://colab.research.google.com/github/condehub5/Trabajo-Final---Universidad-del-Pac-fico/blob/main/Trabajo_Final_Estimaci%C3%B3n.ipynb\" target=\"_parent\"><img src=\"https://colab.research.google.com/assets/colab-badge.svg\" alt=\"Open In Colab\"/></a>"
      ]
    },
    {
      "cell_type": "markdown",
      "source": [
        "# 🐟 Proyecto Final: Pronóstico de la Demanda de Pesca para Consumo Interno Nacional en el Perú (1991–2023)\n",
        "\n",
        "Este proyecto tiene como objetivo estimar y proyectar la **demanda mensual de pesca destinada al consumo interno nacional** en el Perú, utilizando datos oficiales proporcionados por el **Instituto Nacional de Estadística e Informática (INEI)**. La serie abarca desde enero de 1991 hasta diciembre de 2023 y representa una variable relevante para el análisis sectorial de alimentos, producción primaria y consumo nacional.\n",
        "\n",
        "En contextos de inflación, incertidumbre y volatilidad, contar con modelos de pronóstico confiables permite a entidades públicas, empresas pesqueras y actores de la cadena alimentaria anticipar fluctuaciones en la oferta y la demanda, y planificar de forma estratégica.\n",
        "\n",
        "El análisis incluirá:\n",
        "\n",
        "- Visualización exploratoria de la serie histórica.\n",
        "- Aplicación de al menos tres modelos distintos para pronóstico:\n",
        "  - **ARIMA:** Modelo estadístico tradicional para series temporales.\n",
        "  - **Prophet:** Modelo aditivo desarrollado por Meta, adecuado para estacionalidad y tendencias.\n",
        "  - **Random Forest Regressor:** Algoritmo de Machine Learning no paramétrico que aprovecha variables temporales como mes y año.\n",
        "\n",
        "Los modelos serán evaluados en un periodo de prueba fuera de muestra mediante métricas como **MAE (Mean Absolute Error)** y **RMSE (Root Mean Squared Error)**. Finalmente, se realizará una interpretación financiera y estratégica de los resultados obtenidos.\n",
        "\n",
        "---"
      ],
      "metadata": {
        "id": "jDW11cvAfs-Z"
      }
    },
    {
      "cell_type": "code",
      "source": [
        "import numpy as np\n",
        "import pandas as pd #SIRVE PARA DATAFRAMES\n",
        "import matplotlib.pyplot as plt #sirve para gráficos\n",
        "import seaborn as sns #graficos al interior de matplotlib\n",
        "from statsmodels.tsa.holtwinters import ExponentialSmoothing #para trabajar modelos de econometria"
      ],
      "metadata": {
        "id": "Mia4Vs46fyR9"
      },
      "execution_count": 5,
      "outputs": []
    },
    {
      "cell_type": "code",
      "source": [
        "dir()"
      ],
      "metadata": {
        "collapsed": true,
        "colab": {
          "base_uri": "https://localhost:8080/"
        },
        "id": "KI9fS_vBEflr",
        "outputId": "53e4004a-6d37-49b0-bfee-20be8240c325"
      },
      "execution_count": 2,
      "outputs": [
        {
          "output_type": "execute_result",
          "data": {
            "text/plain": [
              "['ExponentialSmoothing',\n",
              " 'In',\n",
              " 'Out',\n",
              " '_',\n",
              " '__',\n",
              " '___',\n",
              " '__builtin__',\n",
              " '__builtins__',\n",
              " '__doc__',\n",
              " '__loader__',\n",
              " '__name__',\n",
              " '__package__',\n",
              " '__spec__',\n",
              " '_dh',\n",
              " '_i',\n",
              " '_i1',\n",
              " '_i2',\n",
              " '_ih',\n",
              " '_ii',\n",
              " '_iii',\n",
              " '_oh',\n",
              " 'exit',\n",
              " 'get_ipython',\n",
              " 'np',\n",
              " 'pd',\n",
              " 'plt',\n",
              " 'quit',\n",
              " 'sns']"
            ]
          },
          "metadata": {},
          "execution_count": 2
        }
      ]
    },
    {
      "cell_type": "markdown",
      "source": [
        "🟦 SNIPPET 1 – Cargar el archivo Excel desde INEI"
      ],
      "metadata": {
        "id": "otO15pDpKoIC"
      }
    },
    {
      "cell_type": "code",
      "source": [
        "# 📂 Cargar archivo Excel con series pesqueras del INEI\n",
        "\n",
        "# Ruta del archivo (debe estar en el mismo directorio o haber sido subido en Colab)\n",
        "file_path = \"Series INEI pesca.xlsx\"\n",
        "\n",
        "# Leer el archivo completo sin encabezados\n",
        "xls = pd.ExcelFile(file_path)\n",
        "df_full = xls.parse(xls.sheet_names[0], header=None)"
      ],
      "metadata": {
        "colab": {
          "base_uri": "https://localhost:8080/"
        },
        "id": "EcMlMa27I8fx",
        "outputId": "ac1a5678-d876-4413-938b-8d31816cbfd5"
      },
      "execution_count": 17,
      "outputs": [
        {
          "output_type": "stream",
          "name": "stderr",
          "text": [
            "/usr/local/lib/python3.11/dist-packages/openpyxl/styles/stylesheet.py:237: UserWarning: Workbook contains no default style, apply openpyxl's default\n",
            "  warn(\"Workbook contains no default style, apply openpyxl's default\")\n"
          ]
        }
      ]
    },
    {
      "cell_type": "code",
      "source": [],
      "metadata": {
        "id": "LeMGvkmRK1lj"
      },
      "execution_count": null,
      "outputs": []
    }
  ]
}